{
 "cells": [
  {
   "cell_type": "markdown",
   "id": "1fc43418-40d7-4d4f-acd8-cea97cc798cd",
   "metadata": {},
   "source": [
    "# using recursive approach"
   ]
  },
  {
   "cell_type": "code",
   "execution_count": 3,
   "id": "2d2b76e6-2841-4cc0-961f-dc4c184b1218",
   "metadata": {},
   "outputs": [
    {
     "name": "stdout",
     "output_type": "stream",
     "text": [
      "{'A': ['B', 'C', 'D'], 'B': ['A', 'E', 'D'], 'C': ['A', 'D'], 'D': ['A', 'B', 'C', 'E'], 'E': ['B', 'D']}\n",
      "\n",
      "A\n",
      "B\n",
      "E\n",
      "D\n",
      "C\n"
     ]
    }
   ],
   "source": [
    "def add_node(v):\n",
    "    if v in graph:\n",
    "        print(v,\"is already present in the graph !!\")\n",
    "    else:\n",
    "        graph[v] = []\n",
    "\n",
    "def add_edge(v1,v2):\n",
    "    if v1 not in graph:\n",
    "        print(v1,\"is not present in the graph\")\n",
    "    elif v2 not in graph:\n",
    "        print(v2,\"is not present in the graph\")\n",
    "    else:\n",
    "        graph[v1].append(v2)\n",
    "        graph[v2].append(v1)\n",
    "\n",
    "def DFS(node,visited,graph):\n",
    "    if node not in graph:\n",
    "        print(\"Node is not present in the graph !!!\")\n",
    "        return\n",
    "    if node not in visited:\n",
    "        print(node)\n",
    "        visited.add(node)\n",
    "        for i in graph[node]:\n",
    "            DFS(i,visited,graph)\n",
    "         \n",
    "visited = set()  \n",
    "graph = {}\n",
    "add_node(\"A\")\n",
    "add_node(\"B\")\n",
    "add_node(\"C\")\n",
    "add_node(\"D\")\n",
    "add_node(\"E\")\n",
    "\n",
    "add_edge(\"A\",\"B\")\n",
    "add_edge(\"B\",\"E\")\n",
    "add_edge(\"A\",\"C\")\n",
    "add_edge(\"A\",\"D\")\n",
    "add_edge(\"B\",\"D\")\n",
    "add_edge(\"C\",\"D\")\n",
    "add_edge(\"E\",\"D\")\n",
    "print(graph)\n",
    "print()\n",
    "DFS(\"A\",visited,graph)"
   ]
  },
  {
   "cell_type": "markdown",
   "id": "a7e58938-4273-4e79-ac86-3c567516e964",
   "metadata": {},
   "source": [
    "# using itervative approach"
   ]
  },
  {
   "cell_type": "code",
   "execution_count": 8,
   "id": "0d83f100-7e04-4582-901a-f10c54a0143c",
   "metadata": {},
   "outputs": [
    {
     "name": "stdout",
     "output_type": "stream",
     "text": [
      "{'A': ['B', 'C', 'D'], 'B': ['A', 'E', 'D'], 'C': ['A', 'D'], 'D': ['A', 'B', 'C', 'E'], 'E': ['B', 'D']}\n",
      "\n",
      "A\n",
      "D\n",
      "E\n",
      "B\n",
      "C\n"
     ]
    }
   ],
   "source": [
    "def add_node(v):\n",
    "    if v in graph:\n",
    "        print(v,\"is already present in the graph !!\")\n",
    "    else:\n",
    "        graph[v] = []\n",
    "\n",
    "def add_edge(v1,v2):\n",
    "    if v1 not in graph:\n",
    "        print(v1,\"is not present in the graph\")\n",
    "    elif v2 not in graph:\n",
    "        print(v2,\"is not present in the graph\")\n",
    "    else:\n",
    "        graph[v1].append(v2)\n",
    "        graph[v2].append(v1)\n",
    "\n",
    "def DFSiterative(node,graph):\n",
    "    visited = set() \n",
    "    if node not in graph:\n",
    "        print(\"Node is not present in the graph !!!\")\n",
    "        return\n",
    "    stack = []\n",
    "    stack.append(node)\n",
    "    while stack:\n",
    "        current = stack.pop()\n",
    "        if current not in visited:\n",
    "            print(current)\n",
    "            visited.add(current)\n",
    "            for i in graph[current]:\n",
    "                stack.append(i)\n",
    "         \n",
    "graph = {}\n",
    "add_node(\"A\")\n",
    "add_node(\"B\")\n",
    "add_node(\"C\")\n",
    "add_node(\"D\")\n",
    "add_node(\"E\")\n",
    "\n",
    "add_edge(\"A\",\"B\")\n",
    "add_edge(\"B\",\"E\")\n",
    "add_edge(\"A\",\"C\")\n",
    "add_edge(\"A\",\"D\")\n",
    "add_edge(\"B\",\"D\")\n",
    "add_edge(\"C\",\"D\")\n",
    "add_edge(\"E\",\"D\")\n",
    "print(graph)\n",
    "print()\n",
    "DFSiterative(\"A\",graph)"
   ]
  },
  {
   "cell_type": "code",
   "execution_count": null,
   "id": "0cfad8a0-c20a-4ff7-99b8-a03d63b0175b",
   "metadata": {},
   "outputs": [],
   "source": []
  }
 ],
 "metadata": {
  "kernelspec": {
   "display_name": "Python 3 (ipykernel)",
   "language": "python",
   "name": "python3"
  },
  "language_info": {
   "codemirror_mode": {
    "name": "ipython",
    "version": 3
   },
   "file_extension": ".py",
   "mimetype": "text/x-python",
   "name": "python",
   "nbconvert_exporter": "python",
   "pygments_lexer": "ipython3",
   "version": "3.12.1"
  }
 },
 "nbformat": 4,
 "nbformat_minor": 5
}

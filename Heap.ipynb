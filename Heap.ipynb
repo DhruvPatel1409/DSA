{
 "cells": [
  {
   "cell_type": "code",
   "execution_count": 1,
   "id": "90adbbfe-02aa-4f65-b8ce-2c724e82fc7a",
   "metadata": {},
   "outputs": [],
   "source": [
    "import heapq"
   ]
  },
  {
   "cell_type": "markdown",
   "id": "3e5926cc-0c1e-4b64-b24a-a60865e0608c",
   "metadata": {},
   "source": [
    "## heappush : pushes the element in the heap"
   ]
  },
  {
   "cell_type": "code",
   "execution_count": 2,
   "id": "b07db8ad-f283-47ab-8e0a-8ba668d962e8",
   "metadata": {},
   "outputs": [],
   "source": [
    "heap = []"
   ]
  },
  {
   "cell_type": "code",
   "execution_count": 3,
   "id": "79f3bb9d-ff43-4f16-89bf-ddccb0ccde32",
   "metadata": {},
   "outputs": [],
   "source": [
    "heapq.heappush(heap,10)"
   ]
  },
  {
   "cell_type": "code",
   "execution_count": 4,
   "id": "61f21e5a-63cb-479b-b6e4-34f1467e6f1b",
   "metadata": {},
   "outputs": [
    {
     "data": {
      "text/plain": [
       "[10]"
      ]
     },
     "execution_count": 4,
     "metadata": {},
     "output_type": "execute_result"
    }
   ],
   "source": [
    "heap"
   ]
  },
  {
   "cell_type": "code",
   "execution_count": 5,
   "id": "1a832408-1e42-48a4-9b39-91770f7a915d",
   "metadata": {},
   "outputs": [],
   "source": [
    "heapq.heappush(heap,1)"
   ]
  },
  {
   "cell_type": "code",
   "execution_count": 6,
   "id": "2d7cb61e-2ecc-428e-86b4-c81e2b582c5a",
   "metadata": {},
   "outputs": [
    {
     "data": {
      "text/plain": [
       "[1, 10]"
      ]
     },
     "execution_count": 6,
     "metadata": {},
     "output_type": "execute_result"
    }
   ],
   "source": [
    "heap"
   ]
  },
  {
   "cell_type": "code",
   "execution_count": 7,
   "id": "3fcd9a7d-a121-4f50-8622-c3e06b76c6b6",
   "metadata": {},
   "outputs": [],
   "source": [
    "heapq.heappush(heap,5)"
   ]
  },
  {
   "cell_type": "code",
   "execution_count": 8,
   "id": "0510f3ed-3f6c-4c8b-ac0e-f7b92669a192",
   "metadata": {},
   "outputs": [
    {
     "data": {
      "text/plain": [
       "[1, 10, 5]"
      ]
     },
     "execution_count": 8,
     "metadata": {},
     "output_type": "execute_result"
    }
   ],
   "source": [
    "heap"
   ]
  },
  {
   "cell_type": "code",
   "execution_count": 9,
   "id": "6ee033b8-9907-4ca6-9b36-8e99c3ca14bf",
   "metadata": {},
   "outputs": [],
   "source": [
    "heapq.heappush(heap,6)\n",
    "heapq.heappush(heap,15)\n",
    "heapq.heappush(heap,51)"
   ]
  },
  {
   "cell_type": "code",
   "execution_count": 10,
   "id": "a86453a3-c9a6-4b7b-a815-ecf48b786c0c",
   "metadata": {},
   "outputs": [
    {
     "data": {
      "text/plain": [
       "[1, 6, 5, 10, 15, 51]"
      ]
     },
     "execution_count": 10,
     "metadata": {},
     "output_type": "execute_result"
    }
   ],
   "source": [
    "heap"
   ]
  },
  {
   "cell_type": "markdown",
   "id": "de97db1b-b1e3-47b6-b468-30370fbd1ab6",
   "metadata": {},
   "source": [
    "## heappop : pops the smallest element form heap"
   ]
  },
  {
   "cell_type": "code",
   "execution_count": 11,
   "id": "deb7668c-8d69-49ea-8b42-b3c485260109",
   "metadata": {},
   "outputs": [
    {
     "data": {
      "text/plain": [
       "1"
      ]
     },
     "execution_count": 11,
     "metadata": {},
     "output_type": "execute_result"
    }
   ],
   "source": [
    "heapq.heappop(heap)"
   ]
  },
  {
   "cell_type": "code",
   "execution_count": 12,
   "id": "9648d30a-94ae-4e76-8cd2-0b3ece49d7c3",
   "metadata": {},
   "outputs": [
    {
     "data": {
      "text/plain": [
       "[5, 6, 51, 10, 15]"
      ]
     },
     "execution_count": 12,
     "metadata": {},
     "output_type": "execute_result"
    }
   ],
   "source": [
    "heap"
   ]
  },
  {
   "cell_type": "code",
   "execution_count": 13,
   "id": "78ef4776-5b2e-4eae-ae37-f7447db8ea6c",
   "metadata": {},
   "outputs": [
    {
     "data": {
      "text/plain": [
       "5"
      ]
     },
     "execution_count": 13,
     "metadata": {},
     "output_type": "execute_result"
    }
   ],
   "source": [
    "heapq.heappop(heap)"
   ]
  },
  {
   "cell_type": "code",
   "execution_count": 14,
   "id": "61dac6db-801e-42c0-8110-92a550f4a412",
   "metadata": {},
   "outputs": [
    {
     "data": {
      "text/plain": [
       "[6, 10, 51, 15]"
      ]
     },
     "execution_count": 14,
     "metadata": {},
     "output_type": "execute_result"
    }
   ],
   "source": [
    "heap"
   ]
  },
  {
   "cell_type": "markdown",
   "id": "ef02d5d6-186d-4c98-b255-3beb17d25e6d",
   "metadata": {},
   "source": [
    "## heapify : coverts any list into heap"
   ]
  },
  {
   "cell_type": "code",
   "execution_count": 15,
   "id": "740418a2-fb63-491f-ad8d-a2c288da3bc8",
   "metadata": {},
   "outputs": [],
   "source": [
    "list = [1,3,5,2,4,6]"
   ]
  },
  {
   "cell_type": "code",
   "execution_count": 16,
   "id": "e345964e-ba58-48d7-8ef8-5a5d95840275",
   "metadata": {},
   "outputs": [],
   "source": [
    "heapq.heapify(list)"
   ]
  },
  {
   "cell_type": "code",
   "execution_count": 17,
   "id": "0af63030-ff29-4e03-ad85-1eaa1a9f6db9",
   "metadata": {},
   "outputs": [
    {
     "data": {
      "text/plain": [
       "[1, 2, 5, 3, 4, 6]"
      ]
     },
     "execution_count": 17,
     "metadata": {},
     "output_type": "execute_result"
    }
   ],
   "source": [
    "list"
   ]
  },
  {
   "cell_type": "markdown",
   "id": "52b52fa3-3362-48e9-806d-f83ef676c2bc",
   "metadata": {},
   "source": [
    "## heappushpop : it will push the item and then delete the item"
   ]
  },
  {
   "cell_type": "code",
   "execution_count": 18,
   "id": "36f6d608-7e69-4df5-8cde-349c3f0d0a6c",
   "metadata": {},
   "outputs": [
    {
     "data": {
      "text/plain": [
       "1"
      ]
     },
     "execution_count": 18,
     "metadata": {},
     "output_type": "execute_result"
    }
   ],
   "source": [
    "heapq.heappushpop(list,89)"
   ]
  },
  {
   "cell_type": "code",
   "execution_count": 20,
   "id": "788f5954-1ba8-4a0e-bbdd-cf70064e6a9e",
   "metadata": {},
   "outputs": [
    {
     "data": {
      "text/plain": [
       "[2, 3, 5, 89, 4, 6]"
      ]
     },
     "execution_count": 20,
     "metadata": {},
     "output_type": "execute_result"
    }
   ],
   "source": [
    "list"
   ]
  },
  {
   "cell_type": "markdown",
   "id": "6b05c777-bbab-42d8-9fa7-a4e920cb934b",
   "metadata": {},
   "source": [
    "## heapreplace : it will first opo the smallest element and then insert new element in the list"
   ]
  },
  {
   "cell_type": "code",
   "execution_count": 21,
   "id": "29e2ee46-6785-453b-ad3c-508461effc48",
   "metadata": {},
   "outputs": [
    {
     "data": {
      "text/plain": [
       "2"
      ]
     },
     "execution_count": 21,
     "metadata": {},
     "output_type": "execute_result"
    }
   ],
   "source": [
    "heapq.heapreplace(list,100)"
   ]
  },
  {
   "cell_type": "code",
   "execution_count": 22,
   "id": "ec6f0055-f050-431c-b152-503dd81ff38a",
   "metadata": {},
   "outputs": [
    {
     "data": {
      "text/plain": [
       "[3, 4, 5, 89, 100, 6]"
      ]
     },
     "execution_count": 22,
     "metadata": {},
     "output_type": "execute_result"
    }
   ],
   "source": [
    "list"
   ]
  },
  {
   "cell_type": "markdown",
   "id": "20033f2b-b9dc-46e0-8d4e-d92ed0866a93",
   "metadata": {},
   "source": [
    "## heapsmallest : it will return the smallest number in iterable\n",
    "## heaplargest : it will return the largest number in iterable"
   ]
  },
  {
   "cell_type": "code",
   "execution_count": 24,
   "id": "e7440c9f-2a40-41a8-b7b9-017a55185802",
   "metadata": {},
   "outputs": [
    {
     "data": {
      "text/plain": [
       "[3, 4]"
      ]
     },
     "execution_count": 24,
     "metadata": {},
     "output_type": "execute_result"
    }
   ],
   "source": [
    "heapq.nsmallest(2,list)"
   ]
  },
  {
   "cell_type": "code",
   "execution_count": 25,
   "id": "03e52ee1-44fb-4316-a5d2-f6e6aef7ad5b",
   "metadata": {},
   "outputs": [
    {
     "data": {
      "text/plain": [
       "[3, 4, 5, 6]"
      ]
     },
     "execution_count": 25,
     "metadata": {},
     "output_type": "execute_result"
    }
   ],
   "source": [
    "heapq.nsmallest(4,list)"
   ]
  },
  {
   "cell_type": "code",
   "execution_count": 26,
   "id": "a661ee5d-277f-4fa5-8d20-418d2a6c6aaa",
   "metadata": {},
   "outputs": [
    {
     "data": {
      "text/plain": [
       "[100]"
      ]
     },
     "execution_count": 26,
     "metadata": {},
     "output_type": "execute_result"
    }
   ],
   "source": [
    "heapq.nlargest(1,list)"
   ]
  },
  {
   "cell_type": "code",
   "execution_count": 27,
   "id": "5a6529f4-d62e-4d7d-a0e4-2c07d0ad05ba",
   "metadata": {},
   "outputs": [
    {
     "data": {
      "text/plain": [
       "[100, 89, 6]"
      ]
     },
     "execution_count": 27,
     "metadata": {},
     "output_type": "execute_result"
    }
   ],
   "source": [
    "heapq.nlargest(3,list)"
   ]
  },
  {
   "cell_type": "code",
   "execution_count": 28,
   "id": "454dbd8d-3c56-4694-b6eb-cdfe5b472520",
   "metadata": {},
   "outputs": [],
   "source": [
    "list1 = [(1,'ria'),(4,'sia'),(3,'kia')]"
   ]
  },
  {
   "cell_type": "code",
   "execution_count": 29,
   "id": "7b76dd29-58ed-4dcc-92a2-9ee6c9cf9d00",
   "metadata": {},
   "outputs": [],
   "source": [
    "heapq.heapify(list1)"
   ]
  },
  {
   "cell_type": "code",
   "execution_count": 31,
   "id": "ed5eb547-ae76-486e-b3b8-6362650b6681",
   "metadata": {},
   "outputs": [
    {
     "name": "stdout",
     "output_type": "stream",
     "text": [
      "[(1, 'ria'), (4, 'sia'), (3, 'kia')]\n"
     ]
    }
   ],
   "source": [
    "print(list1)"
   ]
  },
  {
   "cell_type": "code",
   "execution_count": 32,
   "id": "060029e0-0c4b-45b4-856d-391ffed76e1e",
   "metadata": {},
   "outputs": [
    {
     "name": "stdout",
     "output_type": "stream",
     "text": [
      "(1, 'ria')\n",
      "(3, 'kia')\n",
      "(4, 'sia')\n"
     ]
    }
   ],
   "source": [
    "for i in range(len(list1)):\n",
    "    print(heapq.heappop(list1))"
   ]
  },
  {
   "cell_type": "code",
   "execution_count": null,
   "id": "d32a7aaf-a619-43fc-afba-2aa593600f28",
   "metadata": {},
   "outputs": [],
   "source": []
  }
 ],
 "metadata": {
  "kernelspec": {
   "display_name": "Python 3 (ipykernel)",
   "language": "python",
   "name": "python3"
  },
  "language_info": {
   "codemirror_mode": {
    "name": "ipython",
    "version": 3
   },
   "file_extension": ".py",
   "mimetype": "text/x-python",
   "name": "python",
   "nbconvert_exporter": "python",
   "pygments_lexer": "ipython3",
   "version": "3.12.1"
  }
 },
 "nbformat": 4,
 "nbformat_minor": 5
}

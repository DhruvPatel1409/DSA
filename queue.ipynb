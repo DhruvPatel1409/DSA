{
 "cells": [
  {
   "cell_type": "markdown",
   "id": "d14337d3-0ef8-4487-80d1-28e475462fa6",
   "metadata": {},
   "source": [
    "# There are 2 ways of implementing queue : 1) List 2) Modules"
   ]
  },
  {
   "cell_type": "markdown",
   "id": "fb553cc3-cab3-4b87-8af9-977d806810ea",
   "metadata": {},
   "source": [
    "### Queue has 2 main opeations 1) enqueue 2) dequeue"
   ]
  },
  {
   "cell_type": "code",
   "execution_count": 1,
   "id": "a80dfe2d-af3b-4a9b-8808-c8e238d401b9",
   "metadata": {},
   "outputs": [],
   "source": [
    "queue = []"
   ]
  },
  {
   "cell_type": "code",
   "execution_count": 2,
   "id": "e7a550ca-7b58-4dba-8b5a-64ab4cd9bff7",
   "metadata": {},
   "outputs": [],
   "source": [
    "queue.append(10)\n",
    "queue.append(20)\n",
    "queue.append(30)"
   ]
  },
  {
   "cell_type": "code",
   "execution_count": 3,
   "id": "1ab39f73-d61a-46ea-ac31-7c62a9df15c8",
   "metadata": {},
   "outputs": [
    {
     "data": {
      "text/plain": [
       "[10, 20, 30]"
      ]
     },
     "execution_count": 3,
     "metadata": {},
     "output_type": "execute_result"
    }
   ],
   "source": [
    "queue"
   ]
  },
  {
   "cell_type": "code",
   "execution_count": 4,
   "id": "d344f8b0-591e-4666-aab4-757c19a62b94",
   "metadata": {},
   "outputs": [
    {
     "data": {
      "text/plain": [
       "10"
      ]
     },
     "execution_count": 4,
     "metadata": {},
     "output_type": "execute_result"
    }
   ],
   "source": [
    "queue.pop(0) #removes the first element"
   ]
  },
  {
   "cell_type": "code",
   "execution_count": 5,
   "id": "2d8c2102-1618-4249-8021-17c449811898",
   "metadata": {},
   "outputs": [
    {
     "data": {
      "text/plain": [
       "20"
      ]
     },
     "execution_count": 5,
     "metadata": {},
     "output_type": "execute_result"
    }
   ],
   "source": [
    "queue.pop(0)"
   ]
  },
  {
   "cell_type": "code",
   "execution_count": 6,
   "id": "2b166604-506a-4312-aa3b-bccf4a30dfcd",
   "metadata": {},
   "outputs": [
    {
     "data": {
      "text/plain": [
       "30"
      ]
     },
     "execution_count": 6,
     "metadata": {},
     "output_type": "execute_result"
    }
   ],
   "source": [
    "queue.pop(0)"
   ]
  },
  {
   "cell_type": "code",
   "execution_count": 7,
   "id": "3530b8e6-08ca-479a-be39-5e3927a3da3f",
   "metadata": {},
   "outputs": [],
   "source": [
    "queue.insert(0,10)\n",
    "queue.insert(0,20)\n",
    "queue.insert(0,30)"
   ]
  },
  {
   "cell_type": "code",
   "execution_count": 8,
   "id": "41f3e8b6-a725-4963-8bc5-b5d79e625389",
   "metadata": {},
   "outputs": [
    {
     "data": {
      "text/plain": [
       "[30, 20, 10]"
      ]
     },
     "execution_count": 8,
     "metadata": {},
     "output_type": "execute_result"
    }
   ],
   "source": [
    "queue"
   ]
  },
  {
   "cell_type": "code",
   "execution_count": 9,
   "id": "2dd10906-f94b-4f26-b92d-b4ccaeec79a7",
   "metadata": {},
   "outputs": [
    {
     "data": {
      "text/plain": [
       "10"
      ]
     },
     "execution_count": 9,
     "metadata": {},
     "output_type": "execute_result"
    }
   ],
   "source": [
    "queue.pop()"
   ]
  },
  {
   "cell_type": "code",
   "execution_count": 10,
   "id": "9733cca4-dce7-4da1-8d4f-ac4aa6e772ea",
   "metadata": {},
   "outputs": [
    {
     "data": {
      "text/plain": [
       "20"
      ]
     },
     "execution_count": 10,
     "metadata": {},
     "output_type": "execute_result"
    }
   ],
   "source": [
    "queue.pop()"
   ]
  },
  {
   "cell_type": "code",
   "execution_count": 11,
   "id": "ef25a501-e89a-4319-9253-68d6be69f8e7",
   "metadata": {},
   "outputs": [
    {
     "data": {
      "text/plain": [
       "30"
      ]
     },
     "execution_count": 11,
     "metadata": {},
     "output_type": "execute_result"
    }
   ],
   "source": [
    "queue.pop()"
   ]
  },
  {
   "cell_type": "code",
   "execution_count": 12,
   "id": "2f743048-296b-4229-ba8b-d18160474228",
   "metadata": {},
   "outputs": [
    {
     "data": {
      "text/plain": [
       "True"
      ]
     },
     "execution_count": 12,
     "metadata": {},
     "output_type": "execute_result"
    }
   ],
   "source": [
    "not queue"
   ]
  },
  {
   "cell_type": "code",
   "execution_count": 13,
   "id": "597baacf-14c2-49ce-968d-f83d18655066",
   "metadata": {},
   "outputs": [
    {
     "data": {
      "text/plain": [
       "30"
      ]
     },
     "execution_count": 13,
     "metadata": {},
     "output_type": "execute_result"
    }
   ],
   "source": [
    "queue.append(10)\n",
    "queue.append(20)\n",
    "queue.append(30)\n",
    "queue[-1]"
   ]
  },
  {
   "cell_type": "code",
   "execution_count": 14,
   "id": "9830e4ff-5855-46dd-a35f-ed1c67051cea",
   "metadata": {},
   "outputs": [
    {
     "data": {
      "text/plain": [
       "10"
      ]
     },
     "execution_count": 14,
     "metadata": {},
     "output_type": "execute_result"
    }
   ],
   "source": [
    "queue[0]"
   ]
  },
  {
   "cell_type": "code",
   "execution_count": 15,
   "id": "bf559173-3961-4de9-8ab7-1c223c28b933",
   "metadata": {},
   "outputs": [
    {
     "name": "stdout",
     "output_type": "stream",
     "text": [
      "Select the operation 1) add 2) remove 3) Show 4) quit\n"
     ]
    },
    {
     "name": "stdin",
     "output_type": "stream",
     "text": [
      " 1\n",
      "Enter the element :  10\n"
     ]
    },
    {
     "name": "stdout",
     "output_type": "stream",
     "text": [
      "10 is added to the queue !\n",
      "Select the operation 1) add 2) remove 3) Show 4) quit\n"
     ]
    },
    {
     "name": "stdin",
     "output_type": "stream",
     "text": [
      " 1\n",
      "Enter the element :  20\n"
     ]
    },
    {
     "name": "stdout",
     "output_type": "stream",
     "text": [
      "20 is added to the queue !\n",
      "Select the operation 1) add 2) remove 3) Show 4) quit\n"
     ]
    },
    {
     "name": "stdin",
     "output_type": "stream",
     "text": [
      " 1\n",
      "Enter the element :  30\n"
     ]
    },
    {
     "name": "stdout",
     "output_type": "stream",
     "text": [
      "30 is added to the queue !\n",
      "Select the operation 1) add 2) remove 3) Show 4) quit\n"
     ]
    },
    {
     "name": "stdin",
     "output_type": "stream",
     "text": [
      " 1\n",
      "Enter the element :  40\n"
     ]
    },
    {
     "name": "stdout",
     "output_type": "stream",
     "text": [
      "40 is added to the queue !\n",
      "Select the operation 1) add 2) remove 3) Show 4) quit\n"
     ]
    },
    {
     "name": "stdin",
     "output_type": "stream",
     "text": [
      " 1\n",
      "Enter the element :  50\n"
     ]
    },
    {
     "name": "stdout",
     "output_type": "stream",
     "text": [
      "50 is added to the queue !\n",
      "Select the operation 1) add 2) remove 3) Show 4) quit\n"
     ]
    },
    {
     "name": "stdin",
     "output_type": "stream",
     "text": [
      " 3\n"
     ]
    },
    {
     "name": "stdout",
     "output_type": "stream",
     "text": [
      "['10', '20', '30', '40', '50']\n",
      "Select the operation 1) add 2) remove 3) Show 4) quit\n"
     ]
    },
    {
     "name": "stdin",
     "output_type": "stream",
     "text": [
      " 2\n"
     ]
    },
    {
     "name": "stdout",
     "output_type": "stream",
     "text": [
      "Removed element :  10\n",
      "Select the operation 1) add 2) remove 3) Show 4) quit\n"
     ]
    },
    {
     "name": "stdin",
     "output_type": "stream",
     "text": [
      " 2\n"
     ]
    },
    {
     "name": "stdout",
     "output_type": "stream",
     "text": [
      "Removed element :  20\n",
      "Select the operation 1) add 2) remove 3) Show 4) quit\n"
     ]
    },
    {
     "name": "stdin",
     "output_type": "stream",
     "text": [
      " 2\n"
     ]
    },
    {
     "name": "stdout",
     "output_type": "stream",
     "text": [
      "Removed element :  30\n",
      "Select the operation 1) add 2) remove 3) Show 4) quit\n"
     ]
    },
    {
     "name": "stdin",
     "output_type": "stream",
     "text": [
      " 2\n"
     ]
    },
    {
     "name": "stdout",
     "output_type": "stream",
     "text": [
      "Removed element :  40\n",
      "Select the operation 1) add 2) remove 3) Show 4) quit\n"
     ]
    },
    {
     "name": "stdin",
     "output_type": "stream",
     "text": [
      " 3\n"
     ]
    },
    {
     "name": "stdout",
     "output_type": "stream",
     "text": [
      "['50']\n",
      "Select the operation 1) add 2) remove 3) Show 4) quit\n"
     ]
    },
    {
     "name": "stdin",
     "output_type": "stream",
     "text": [
      " 4\n"
     ]
    }
   ],
   "source": [
    "queue = []\n",
    "def enqueue():\n",
    "    element = input('Enter the element : ')\n",
    "    queue.append(element)\n",
    "    print(element,'is added to the queue !')\n",
    "\n",
    "def dequeue():\n",
    "    if not queue:\n",
    "        print('Queue is empty !!')\n",
    "    else:\n",
    "        e = queue.pop(0)\n",
    "        print('Removed element : ',e)\n",
    "\n",
    "def display():\n",
    "    print(queue)\n",
    "\n",
    "while True:\n",
    "    print(\"Select the operation 1) add 2) remove 3) Show 4) quit\")\n",
    "    choice = int(input())\n",
    "    if choice == 1:\n",
    "        enqueue()\n",
    "    elif choice == 2:\n",
    "        dequeue()\n",
    "    elif choice == 3:\n",
    "        display()\n",
    "    elif choice == 4:\n",
    "        break\n",
    "    else:\n",
    "        print('Enter the correct operation!')"
   ]
  },
  {
   "cell_type": "markdown",
   "id": "3e6e84f6-d339-4246-a5aa-8f89ed2903ce",
   "metadata": {},
   "source": [
    "# queue implementation using modules"
   ]
  },
  {
   "cell_type": "code",
   "execution_count": 16,
   "id": "e4852365-4d90-4c63-8ed5-e4b06c89b6ed",
   "metadata": {},
   "outputs": [],
   "source": [
    "import collections"
   ]
  },
  {
   "cell_type": "code",
   "execution_count": 17,
   "id": "e715a891-27ce-47d5-ac7f-0dd229b1dba3",
   "metadata": {},
   "outputs": [
    {
     "data": {
      "text/plain": [
       "deque([])"
      ]
     },
     "execution_count": 17,
     "metadata": {},
     "output_type": "execute_result"
    }
   ],
   "source": [
    "q = collections.deque()\n",
    "q"
   ]
  },
  {
   "cell_type": "code",
   "execution_count": 18,
   "id": "fd0b0f81-02a6-49d9-8126-394893cc251d",
   "metadata": {},
   "outputs": [],
   "source": [
    "q.appendleft(10)\n",
    "q.appendleft(20)\n",
    "q.appendleft(30)"
   ]
  },
  {
   "cell_type": "code",
   "execution_count": 19,
   "id": "6fb5c8a2-2fd5-496f-b6ef-76c02c9101eb",
   "metadata": {},
   "outputs": [
    {
     "data": {
      "text/plain": [
       "deque([30, 20, 10])"
      ]
     },
     "execution_count": 19,
     "metadata": {},
     "output_type": "execute_result"
    }
   ],
   "source": [
    "q"
   ]
  },
  {
   "cell_type": "code",
   "execution_count": 20,
   "id": "9c443b10-b0b1-43a6-a153-9a0474c955d6",
   "metadata": {},
   "outputs": [
    {
     "data": {
      "text/plain": [
       "10"
      ]
     },
     "execution_count": 20,
     "metadata": {},
     "output_type": "execute_result"
    }
   ],
   "source": [
    "q.pop()"
   ]
  },
  {
   "cell_type": "code",
   "execution_count": 21,
   "id": "9c8f8858-029e-4427-a562-f6c5039fe54c",
   "metadata": {},
   "outputs": [
    {
     "data": {
      "text/plain": [
       "20"
      ]
     },
     "execution_count": 21,
     "metadata": {},
     "output_type": "execute_result"
    }
   ],
   "source": [
    "q.pop()"
   ]
  },
  {
   "cell_type": "code",
   "execution_count": 22,
   "id": "b1e86069-6651-455b-831a-3b62188798c7",
   "metadata": {},
   "outputs": [
    {
     "data": {
      "text/plain": [
       "30"
      ]
     },
     "execution_count": 22,
     "metadata": {},
     "output_type": "execute_result"
    }
   ],
   "source": [
    "q.pop()"
   ]
  },
  {
   "cell_type": "code",
   "execution_count": 23,
   "id": "63835547-98ee-4736-a703-0f33bf743254",
   "metadata": {},
   "outputs": [],
   "source": [
    "q.append(10)\n",
    "q.append(20)\n",
    "q.append(30)"
   ]
  },
  {
   "cell_type": "code",
   "execution_count": 24,
   "id": "89978515-24f7-421f-9fef-f5c0c04df3db",
   "metadata": {},
   "outputs": [
    {
     "data": {
      "text/plain": [
       "deque([10, 20, 30])"
      ]
     },
     "execution_count": 24,
     "metadata": {},
     "output_type": "execute_result"
    }
   ],
   "source": [
    "q"
   ]
  },
  {
   "cell_type": "code",
   "execution_count": 25,
   "id": "bb30ff39-066a-4507-b92a-b33f6d9d2053",
   "metadata": {},
   "outputs": [
    {
     "data": {
      "text/plain": [
       "10"
      ]
     },
     "execution_count": 25,
     "metadata": {},
     "output_type": "execute_result"
    }
   ],
   "source": [
    "q.popleft()"
   ]
  },
  {
   "cell_type": "code",
   "execution_count": 26,
   "id": "7c321274-fde0-4989-bdb8-d557d674deba",
   "metadata": {},
   "outputs": [
    {
     "data": {
      "text/plain": [
       "20"
      ]
     },
     "execution_count": 26,
     "metadata": {},
     "output_type": "execute_result"
    }
   ],
   "source": [
    "q.popleft()"
   ]
  },
  {
   "cell_type": "code",
   "execution_count": 27,
   "id": "2c0bfe46-30a1-4959-b8df-d5470159f23f",
   "metadata": {},
   "outputs": [
    {
     "data": {
      "text/plain": [
       "30"
      ]
     },
     "execution_count": 27,
     "metadata": {},
     "output_type": "execute_result"
    }
   ],
   "source": [
    "q.popleft()"
   ]
  },
  {
   "cell_type": "code",
   "execution_count": 28,
   "id": "cff1b0ce-b9c1-4c7b-9ed1-af4d3d23e61e",
   "metadata": {},
   "outputs": [
    {
     "data": {
      "text/plain": [
       "True"
      ]
     },
     "execution_count": 28,
     "metadata": {},
     "output_type": "execute_result"
    }
   ],
   "source": [
    "not q"
   ]
  },
  {
   "cell_type": "code",
   "execution_count": 29,
   "id": "1c959791-f0fc-4507-9c4c-b833836bd0b2",
   "metadata": {},
   "outputs": [],
   "source": [
    "import queue"
   ]
  },
  {
   "cell_type": "code",
   "execution_count": 30,
   "id": "971aed8e-b805-4b85-a7cc-6b31c347da2f",
   "metadata": {},
   "outputs": [],
   "source": [
    "q = queue.Queue()"
   ]
  },
  {
   "cell_type": "code",
   "execution_count": 31,
   "id": "bf0df64d-8f40-4db4-a1a5-182b258553e3",
   "metadata": {},
   "outputs": [],
   "source": [
    "q.put(10)\n",
    "q.put(20)\n",
    "q.put(30)"
   ]
  },
  {
   "cell_type": "code",
   "execution_count": 32,
   "id": "961995f1-c328-4f51-b7a4-442a1b4090e0",
   "metadata": {},
   "outputs": [
    {
     "data": {
      "text/plain": [
       "10"
      ]
     },
     "execution_count": 32,
     "metadata": {},
     "output_type": "execute_result"
    }
   ],
   "source": [
    "q.get()"
   ]
  },
  {
   "cell_type": "code",
   "execution_count": 33,
   "id": "041cbee9-9de7-4362-b46e-8b0f33574de9",
   "metadata": {},
   "outputs": [
    {
     "data": {
      "text/plain": [
       "20"
      ]
     },
     "execution_count": 33,
     "metadata": {},
     "output_type": "execute_result"
    }
   ],
   "source": [
    "q.get()"
   ]
  },
  {
   "cell_type": "code",
   "execution_count": 34,
   "id": "54a8e427-554b-413e-9cd5-01cd9c983b30",
   "metadata": {},
   "outputs": [
    {
     "data": {
      "text/plain": [
       "30"
      ]
     },
     "execution_count": 34,
     "metadata": {},
     "output_type": "execute_result"
    }
   ],
   "source": [
    "q.get()"
   ]
  },
  {
   "cell_type": "markdown",
   "id": "a76e8dae-6a47-4f5f-af37-a70a10bc8688",
   "metadata": {},
   "source": [
    "# PRIORITY QUEUE"
   ]
  },
  {
   "cell_type": "code",
   "execution_count": 35,
   "id": "c2a77795-ab79-4cf0-a3bf-d389182fa52e",
   "metadata": {},
   "outputs": [],
   "source": [
    "q = []"
   ]
  },
  {
   "cell_type": "code",
   "execution_count": 36,
   "id": "d7002ea8-0ee3-427a-89b2-b81f1b84f19e",
   "metadata": {},
   "outputs": [],
   "source": [
    "q.append(10)\n",
    "q.append(40)"
   ]
  },
  {
   "cell_type": "code",
   "execution_count": 37,
   "id": "47ff224b-8118-45b2-9d69-805f2fabd7d5",
   "metadata": {},
   "outputs": [],
   "source": [
    "q.sort()"
   ]
  },
  {
   "cell_type": "code",
   "execution_count": 38,
   "id": "8e75bf02-0485-479e-8769-f6490d6da9fb",
   "metadata": {},
   "outputs": [],
   "source": [
    "q.append(20)"
   ]
  },
  {
   "cell_type": "code",
   "execution_count": 39,
   "id": "8760225a-51c0-43a7-a020-382696f58f94",
   "metadata": {},
   "outputs": [],
   "source": [
    "q.sort()"
   ]
  },
  {
   "cell_type": "code",
   "execution_count": 40,
   "id": "6e363b86-2709-44bd-a2f2-32a729010b4c",
   "metadata": {},
   "outputs": [
    {
     "data": {
      "text/plain": [
       "[10, 20, 40]"
      ]
     },
     "execution_count": 40,
     "metadata": {},
     "output_type": "execute_result"
    }
   ],
   "source": [
    "q"
   ]
  },
  {
   "cell_type": "code",
   "execution_count": 41,
   "id": "ec6b7157-1e8c-4ab9-bdbb-2d3b7761dda0",
   "metadata": {},
   "outputs": [
    {
     "data": {
      "text/plain": [
       "10"
      ]
     },
     "execution_count": 41,
     "metadata": {},
     "output_type": "execute_result"
    }
   ],
   "source": [
    "q.pop(0)"
   ]
  },
  {
   "cell_type": "code",
   "execution_count": 42,
   "id": "3a129139-2321-4984-8ade-47875681cc25",
   "metadata": {},
   "outputs": [
    {
     "data": {
      "text/plain": [
       "20"
      ]
     },
     "execution_count": 42,
     "metadata": {},
     "output_type": "execute_result"
    }
   ],
   "source": [
    "q.pop(0)"
   ]
  },
  {
   "cell_type": "code",
   "execution_count": 43,
   "id": "c8d184f4-c15f-4dcb-a638-b0b42bf61c6c",
   "metadata": {},
   "outputs": [
    {
     "data": {
      "text/plain": [
       "40"
      ]
     },
     "execution_count": 43,
     "metadata": {},
     "output_type": "execute_result"
    }
   ],
   "source": [
    "q.pop(0)"
   ]
  },
  {
   "cell_type": "code",
   "execution_count": 44,
   "id": "1bea0997-2c70-432e-83e8-5bc5dd5cffbb",
   "metadata": {},
   "outputs": [],
   "source": [
    "import queue"
   ]
  },
  {
   "cell_type": "code",
   "execution_count": 45,
   "id": "3a8b1f39-4cb8-49e1-9eba-468b7da1665d",
   "metadata": {},
   "outputs": [],
   "source": [
    "q = queue.PriorityQueue()"
   ]
  },
  {
   "cell_type": "code",
   "execution_count": 46,
   "id": "52b89f90-e513-44cd-b3b2-e8cb446ad5a2",
   "metadata": {},
   "outputs": [],
   "source": [
    "q.put(10)\n",
    "q.put(60)\n",
    "q.put(20)\n",
    "q.put(40)\n",
    "q.put(40)"
   ]
  },
  {
   "cell_type": "code",
   "execution_count": 47,
   "id": "913be18a-0b11-4ccf-8935-81637df4f5e0",
   "metadata": {},
   "outputs": [
    {
     "data": {
      "text/plain": [
       "10"
      ]
     },
     "execution_count": 47,
     "metadata": {},
     "output_type": "execute_result"
    }
   ],
   "source": [
    "q.get()"
   ]
  },
  {
   "cell_type": "code",
   "execution_count": 48,
   "id": "bb8580c0-a0c9-467b-9901-1ae2c870d358",
   "metadata": {},
   "outputs": [
    {
     "data": {
      "text/plain": [
       "20"
      ]
     },
     "execution_count": 48,
     "metadata": {},
     "output_type": "execute_result"
    }
   ],
   "source": [
    "q.get()"
   ]
  },
  {
   "cell_type": "code",
   "execution_count": 49,
   "id": "a71c72c2-78ac-43bb-88bc-7a1440ebdb1a",
   "metadata": {},
   "outputs": [
    {
     "data": {
      "text/plain": [
       "40"
      ]
     },
     "execution_count": 49,
     "metadata": {},
     "output_type": "execute_result"
    }
   ],
   "source": [
    "q.get()"
   ]
  },
  {
   "cell_type": "code",
   "execution_count": 50,
   "id": "9ad19bc7-a6d7-4c6c-bb34-ce54fa2d53de",
   "metadata": {},
   "outputs": [
    {
     "data": {
      "text/plain": [
       "40"
      ]
     },
     "execution_count": 50,
     "metadata": {},
     "output_type": "execute_result"
    }
   ],
   "source": [
    "q.get()"
   ]
  },
  {
   "cell_type": "code",
   "execution_count": 51,
   "id": "70a3dac5-d469-4bb4-89c3-1021b69a9d58",
   "metadata": {},
   "outputs": [
    {
     "data": {
      "text/plain": [
       "60"
      ]
     },
     "execution_count": 51,
     "metadata": {},
     "output_type": "execute_result"
    }
   ],
   "source": [
    "q.get()"
   ]
  },
  {
   "cell_type": "code",
   "execution_count": 52,
   "id": "a621fb3f-2d74-454f-9437-accafb1ea326",
   "metadata": {},
   "outputs": [],
   "source": [
    "q = []"
   ]
  },
  {
   "cell_type": "code",
   "execution_count": 54,
   "id": "e68607c7-2afd-44c8-ac76-0578979f5504",
   "metadata": {},
   "outputs": [],
   "source": [
    "q.append((1,\"alexa\"))\n",
    "q.append((4,\"alex\"))\n",
    "q.append((2,\"al\"))\n",
    "q.sort(reverse=True)"
   ]
  },
  {
   "cell_type": "code",
   "execution_count": 55,
   "id": "531bb9d1-f3ce-4347-b7cf-c547ac6e93cd",
   "metadata": {},
   "outputs": [
    {
     "data": {
      "text/plain": [
       "[(4, 'alex'), (2, 'al'), (1, 'alexa')]"
      ]
     },
     "execution_count": 55,
     "metadata": {},
     "output_type": "execute_result"
    }
   ],
   "source": [
    "q"
   ]
  },
  {
   "cell_type": "code",
   "execution_count": 56,
   "id": "d1734da9-aefb-4843-a7b4-02a492d483c0",
   "metadata": {},
   "outputs": [
    {
     "data": {
      "text/plain": [
       "(4, 'alex')"
      ]
     },
     "execution_count": 56,
     "metadata": {},
     "output_type": "execute_result"
    }
   ],
   "source": [
    "q.pop(0)"
   ]
  },
  {
   "cell_type": "code",
   "execution_count": 57,
   "id": "565bdbc2-7cf4-40bd-b167-a7a8ee538380",
   "metadata": {},
   "outputs": [
    {
     "data": {
      "text/plain": [
       "(2, 'al')"
      ]
     },
     "execution_count": 57,
     "metadata": {},
     "output_type": "execute_result"
    }
   ],
   "source": [
    "q.pop(0)"
   ]
  },
  {
   "cell_type": "code",
   "execution_count": 58,
   "id": "2a7206c2-f38a-4a6e-a7ba-96b3317a3a32",
   "metadata": {},
   "outputs": [
    {
     "data": {
      "text/plain": [
       "(1, 'alexa')"
      ]
     },
     "execution_count": 58,
     "metadata": {},
     "output_type": "execute_result"
    }
   ],
   "source": [
    "q.pop(0)"
   ]
  },
  {
   "cell_type": "code",
   "execution_count": null,
   "id": "92ae18dc-d82c-4fb8-b627-4ab8996eb057",
   "metadata": {},
   "outputs": [],
   "source": []
  }
 ],
 "metadata": {
  "kernelspec": {
   "display_name": "Python 3 (ipykernel)",
   "language": "python",
   "name": "python3"
  },
  "language_info": {
   "codemirror_mode": {
    "name": "ipython",
    "version": 3
   },
   "file_extension": ".py",
   "mimetype": "text/x-python",
   "name": "python",
   "nbconvert_exporter": "python",
   "pygments_lexer": "ipython3",
   "version": "3.12.1"
  }
 },
 "nbformat": 4,
 "nbformat_minor": 5
}

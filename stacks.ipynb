{
 "cells": [
  {
   "cell_type": "markdown",
   "id": "826b3426-85f2-4563-82aa-7fc4b9ae9f1d",
   "metadata": {},
   "source": [
    "# we can implement stack using list and as well as modules also\n",
    "### There are 2 main operations in stacks : 1) push and 2) pop"
   ]
  },
  {
   "cell_type": "markdown",
   "id": "f4b80683-a499-436d-8f8f-9418fde85e25",
   "metadata": {},
   "source": [
    "# STACK USING LIST"
   ]
  },
  {
   "cell_type": "code",
   "execution_count": 1,
   "id": "d99af51d-ab73-4557-a3a4-5f0dbcc5397c",
   "metadata": {},
   "outputs": [],
   "source": [
    "stack = []"
   ]
  },
  {
   "cell_type": "code",
   "execution_count": 2,
   "id": "e9433369-3a25-4c69-9040-0ef8f3da5ce5",
   "metadata": {},
   "outputs": [],
   "source": [
    "stack.append(10)\n",
    "stack.append(20)\n",
    "stack.append(20)"
   ]
  },
  {
   "cell_type": "code",
   "execution_count": 3,
   "id": "d0c9a7d0-78a8-49fd-ae07-2f70d699e622",
   "metadata": {},
   "outputs": [
    {
     "data": {
      "text/plain": [
       "[10, 20, 20]"
      ]
     },
     "execution_count": 3,
     "metadata": {},
     "output_type": "execute_result"
    }
   ],
   "source": [
    "stack"
   ]
  },
  {
   "cell_type": "code",
   "execution_count": 4,
   "id": "5b365769-5d4c-451e-b8cd-9673a2bde33f",
   "metadata": {},
   "outputs": [
    {
     "data": {
      "text/plain": [
       "20"
      ]
     },
     "execution_count": 4,
     "metadata": {},
     "output_type": "execute_result"
    }
   ],
   "source": [
    "stack.pop()"
   ]
  },
  {
   "cell_type": "code",
   "execution_count": 5,
   "id": "a6f07f42-39ce-495c-b89b-47497627db26",
   "metadata": {},
   "outputs": [
    {
     "data": {
      "text/plain": [
       "[10, 20]"
      ]
     },
     "execution_count": 5,
     "metadata": {},
     "output_type": "execute_result"
    }
   ],
   "source": [
    "stack"
   ]
  },
  {
   "cell_type": "code",
   "execution_count": 6,
   "id": "ec778fa2-336a-4449-aeda-21b120d56a64",
   "metadata": {},
   "outputs": [
    {
     "data": {
      "text/plain": [
       "20"
      ]
     },
     "execution_count": 6,
     "metadata": {},
     "output_type": "execute_result"
    }
   ],
   "source": [
    "stack.pop()"
   ]
  },
  {
   "cell_type": "code",
   "execution_count": 7,
   "id": "7ab06955-5a83-4f40-bf25-8228c72807ad",
   "metadata": {},
   "outputs": [
    {
     "data": {
      "text/plain": [
       "[10]"
      ]
     },
     "execution_count": 7,
     "metadata": {},
     "output_type": "execute_result"
    }
   ],
   "source": [
    "stack"
   ]
  },
  {
   "cell_type": "code",
   "execution_count": 8,
   "id": "8c49ee5f-20f3-4b33-852f-7198f6c35002",
   "metadata": {},
   "outputs": [
    {
     "data": {
      "text/plain": [
       "10"
      ]
     },
     "execution_count": 8,
     "metadata": {},
     "output_type": "execute_result"
    }
   ],
   "source": [
    "stack.pop()"
   ]
  },
  {
   "cell_type": "code",
   "execution_count": 9,
   "id": "502b7033-fac6-49b7-8780-c4bc830cad4d",
   "metadata": {},
   "outputs": [
    {
     "data": {
      "text/plain": [
       "[]"
      ]
     },
     "execution_count": 9,
     "metadata": {},
     "output_type": "execute_result"
    }
   ],
   "source": [
    "stack"
   ]
  },
  {
   "cell_type": "code",
   "execution_count": 10,
   "id": "64e4c896-dc01-4210-b94d-4f3901c80ce2",
   "metadata": {},
   "outputs": [
    {
     "data": {
      "text/plain": [
       "True"
      ]
     },
     "execution_count": 10,
     "metadata": {},
     "output_type": "execute_result"
    }
   ],
   "source": [
    "len(stack)==0"
   ]
  },
  {
   "cell_type": "code",
   "execution_count": 11,
   "id": "70920d29-53ca-43dc-9f7d-0489eace672e",
   "metadata": {},
   "outputs": [
    {
     "data": {
      "text/plain": [
       "True"
      ]
     },
     "execution_count": 11,
     "metadata": {},
     "output_type": "execute_result"
    }
   ],
   "source": [
    "not stack"
   ]
  },
  {
   "cell_type": "code",
   "execution_count": 12,
   "id": "f7c0cb5f-05cb-4821-8250-e3ceaeab0c24",
   "metadata": {},
   "outputs": [],
   "source": [
    "stack.append(10)\n",
    "stack.append(20)"
   ]
  },
  {
   "cell_type": "code",
   "execution_count": 13,
   "id": "3d4bde16-ad66-487a-943a-a65897dd7081",
   "metadata": {},
   "outputs": [
    {
     "data": {
      "text/plain": [
       "20"
      ]
     },
     "execution_count": 13,
     "metadata": {},
     "output_type": "execute_result"
    }
   ],
   "source": [
    "stack[-1]"
   ]
  },
  {
   "cell_type": "code",
   "execution_count": 14,
   "id": "7e127bec-a527-4dc6-81fe-52c44b0adbd4",
   "metadata": {},
   "outputs": [
    {
     "name": "stdin",
     "output_type": "stream",
     "text": [
      "enter the limit of stack :  1\n"
     ]
    },
    {
     "name": "stdout",
     "output_type": "stream",
     "text": [
      "Select the operation 1.Push 2.Pop 3.Quit\n"
     ]
    },
    {
     "name": "stdin",
     "output_type": "stream",
     "text": [
      " 10\n"
     ]
    },
    {
     "name": "stdout",
     "output_type": "stream",
     "text": [
      "Enter the correct question\n",
      "Select the operation 1.Push 2.Pop 3.Quit\n"
     ]
    },
    {
     "name": "stdin",
     "output_type": "stream",
     "text": [
      " 1\n",
      "enter the element :  20\n"
     ]
    },
    {
     "name": "stdout",
     "output_type": "stream",
     "text": [
      "['20']\n",
      "Select the operation 1.Push 2.Pop 3.Quit\n"
     ]
    },
    {
     "name": "stdin",
     "output_type": "stream",
     "text": [
      " 1\n"
     ]
    },
    {
     "name": "stdout",
     "output_type": "stream",
     "text": [
      "List is full !!\n",
      "Select the operation 1.Push 2.Pop 3.Quit\n"
     ]
    },
    {
     "name": "stdin",
     "output_type": "stream",
     "text": [
      " 30\n"
     ]
    },
    {
     "name": "stdout",
     "output_type": "stream",
     "text": [
      "Enter the correct question\n",
      "Select the operation 1.Push 2.Pop 3.Quit\n"
     ]
    },
    {
     "name": "stdin",
     "output_type": "stream",
     "text": [
      " 1\n"
     ]
    },
    {
     "name": "stdout",
     "output_type": "stream",
     "text": [
      "List is full !!\n",
      "Select the operation 1.Push 2.Pop 3.Quit\n"
     ]
    },
    {
     "name": "stdin",
     "output_type": "stream",
     "text": [
      " 2\n"
     ]
    },
    {
     "name": "stdout",
     "output_type": "stream",
     "text": [
      "Removed element 20\n",
      "[]\n",
      "Select the operation 1.Push 2.Pop 3.Quit\n"
     ]
    },
    {
     "name": "stdin",
     "output_type": "stream",
     "text": [
      " 2\n"
     ]
    },
    {
     "name": "stdout",
     "output_type": "stream",
     "text": [
      "stack is empty !!\n",
      "Select the operation 1.Push 2.Pop 3.Quit\n"
     ]
    },
    {
     "name": "stdin",
     "output_type": "stream",
     "text": [
      " 2\n"
     ]
    },
    {
     "name": "stdout",
     "output_type": "stream",
     "text": [
      "stack is empty !!\n",
      "Select the operation 1.Push 2.Pop 3.Quit\n"
     ]
    },
    {
     "name": "stdin",
     "output_type": "stream",
     "text": [
      " 3\n"
     ]
    }
   ],
   "source": [
    "stack=[]\n",
    "\n",
    "def push():\n",
    "    if len(stack)==n:\n",
    "        print(\"List is full !!\")\n",
    "    else:\n",
    "        element = input(\"enter the element : \")\n",
    "        stack.append(element)\n",
    "        print(stack)\n",
    "\n",
    "def pop_element():\n",
    "    if not stack:\n",
    "        print(\"stack is empty !!\")\n",
    "    else:\n",
    "        e = stack.pop()\n",
    "        print(\"Removed element\",e)\n",
    "        print(stack)\n",
    "\n",
    "n = int(input(\"enter the limit of stack : \"))\n",
    "while True:\n",
    "    print('Select the operation 1.Push 2.Pop 3.Quit')\n",
    "    choice = int(input())\n",
    "    if choice == 1:\n",
    "        push()\n",
    "    elif choice == 2:\n",
    "        pop_element()\n",
    "    elif choice == 3:\n",
    "        break\n",
    "    else:\n",
    "        print(\"Enter the correct question\")"
   ]
  },
  {
   "cell_type": "markdown",
   "id": "43dd575e-160d-4c06-9175-f0957dce1012",
   "metadata": {},
   "source": [
    "# STACK USING MODULES\n",
    "### 1) COLLECTIONS -----> DEQUE- DOUBLE ENDED QUEUE\n",
    "### 2) QUEUE ----> LIFO QUEUE"
   ]
  },
  {
   "cell_type": "code",
   "execution_count": 15,
   "id": "605a5061-6a3d-4e5f-a193-e336ad1f5973",
   "metadata": {},
   "outputs": [],
   "source": [
    "import collections"
   ]
  },
  {
   "cell_type": "code",
   "execution_count": 16,
   "id": "e278e9ca-02cd-4039-a57a-b230b2ecfc78",
   "metadata": {},
   "outputs": [
    {
     "data": {
      "text/plain": [
       "deque([])"
      ]
     },
     "execution_count": 16,
     "metadata": {},
     "output_type": "execute_result"
    }
   ],
   "source": [
    "stack = collections.deque()\n",
    "stack"
   ]
  },
  {
   "cell_type": "code",
   "execution_count": 17,
   "id": "497f56fc-4593-4421-9ed1-5530784036bb",
   "metadata": {},
   "outputs": [],
   "source": [
    "stack.append(10)\n",
    "stack.append(20)\n",
    "stack.append(30)"
   ]
  },
  {
   "cell_type": "code",
   "execution_count": 18,
   "id": "9ea73c40-707b-4649-9f8d-1a281faf78e5",
   "metadata": {},
   "outputs": [
    {
     "data": {
      "text/plain": [
       "deque([10, 20, 30])"
      ]
     },
     "execution_count": 18,
     "metadata": {},
     "output_type": "execute_result"
    }
   ],
   "source": [
    "stack"
   ]
  },
  {
   "cell_type": "code",
   "execution_count": 19,
   "id": "372cbaf7-fa35-45cd-a7bd-b462238e6b4b",
   "metadata": {},
   "outputs": [
    {
     "data": {
      "text/plain": [
       "30"
      ]
     },
     "execution_count": 19,
     "metadata": {},
     "output_type": "execute_result"
    }
   ],
   "source": [
    "stack.pop()"
   ]
  },
  {
   "cell_type": "code",
   "execution_count": 20,
   "id": "941b28ee-1a5c-4e7d-b028-06fd0afc72a5",
   "metadata": {},
   "outputs": [
    {
     "data": {
      "text/plain": [
       "20"
      ]
     },
     "execution_count": 20,
     "metadata": {},
     "output_type": "execute_result"
    }
   ],
   "source": [
    "stack.pop()"
   ]
  },
  {
   "cell_type": "code",
   "execution_count": 21,
   "id": "01d25b48-743e-4591-a010-6c9991ffc7a8",
   "metadata": {},
   "outputs": [
    {
     "data": {
      "text/plain": [
       "10"
      ]
     },
     "execution_count": 21,
     "metadata": {},
     "output_type": "execute_result"
    }
   ],
   "source": [
    "stack.pop()"
   ]
  },
  {
   "cell_type": "code",
   "execution_count": 22,
   "id": "acf51477-e457-4bae-8d65-c377a063f7ef",
   "metadata": {},
   "outputs": [
    {
     "data": {
      "text/plain": [
       "deque([])"
      ]
     },
     "execution_count": 22,
     "metadata": {},
     "output_type": "execute_result"
    }
   ],
   "source": [
    "stack"
   ]
  },
  {
   "cell_type": "code",
   "execution_count": 23,
   "id": "e7e957e7-b659-4650-ae77-379ed43667a1",
   "metadata": {},
   "outputs": [
    {
     "data": {
      "text/plain": [
       "True"
      ]
     },
     "execution_count": 23,
     "metadata": {},
     "output_type": "execute_result"
    }
   ],
   "source": [
    "not stack"
   ]
  },
  {
   "cell_type": "code",
   "execution_count": 24,
   "id": "1f081de5-456b-406a-8519-92135365e9bb",
   "metadata": {},
   "outputs": [],
   "source": [
    "import queue"
   ]
  },
  {
   "cell_type": "code",
   "execution_count": 25,
   "id": "df64768f-f702-4a18-8c22-b3de7cdd6178",
   "metadata": {},
   "outputs": [],
   "source": [
    "stack = queue.LifoQueue()"
   ]
  },
  {
   "cell_type": "code",
   "execution_count": 26,
   "id": "0d9c09d8-e61a-406e-82c6-44b8f07ab35a",
   "metadata": {},
   "outputs": [],
   "source": [
    "stack.put(10)\n",
    "stack.put(20)\n",
    "stack.put(30)"
   ]
  },
  {
   "cell_type": "code",
   "execution_count": 27,
   "id": "59f0ae81-3cbc-4c49-b9a2-e10cd0bf3350",
   "metadata": {},
   "outputs": [
    {
     "data": {
      "text/plain": [
       "30"
      ]
     },
     "execution_count": 27,
     "metadata": {},
     "output_type": "execute_result"
    }
   ],
   "source": [
    "stack.get()"
   ]
  },
  {
   "cell_type": "code",
   "execution_count": 28,
   "id": "eea93812-c884-40bf-89cf-1821f296fd17",
   "metadata": {},
   "outputs": [
    {
     "data": {
      "text/plain": [
       "20"
      ]
     },
     "execution_count": 28,
     "metadata": {},
     "output_type": "execute_result"
    }
   ],
   "source": [
    "stack.get()"
   ]
  },
  {
   "cell_type": "code",
   "execution_count": 29,
   "id": "464fe1ac-2c78-4b3d-a39b-fa998292ca24",
   "metadata": {},
   "outputs": [
    {
     "data": {
      "text/plain": [
       "10"
      ]
     },
     "execution_count": 29,
     "metadata": {},
     "output_type": "execute_result"
    }
   ],
   "source": [
    "stack.get()"
   ]
  },
  {
   "cell_type": "code",
   "execution_count": 30,
   "id": "8f60f918-4691-4a50-a196-4934e8f6a0ec",
   "metadata": {},
   "outputs": [],
   "source": [
    "stack = queue.LifoQueue(3)"
   ]
  },
  {
   "cell_type": "code",
   "execution_count": 31,
   "id": "6cf98c46-3617-4d6f-9712-bc68054b777d",
   "metadata": {},
   "outputs": [],
   "source": [
    "stack.put(10)\n",
    "stack.put(20)\n",
    "stack.put(30)"
   ]
  },
  {
   "cell_type": "code",
   "execution_count": 32,
   "id": "d6b4e507-c35f-4355-9e1b-b0b6431882ef",
   "metadata": {},
   "outputs": [
    {
     "data": {
      "text/plain": [
       "30"
      ]
     },
     "execution_count": 32,
     "metadata": {},
     "output_type": "execute_result"
    }
   ],
   "source": [
    "stack.get()"
   ]
  },
  {
   "cell_type": "code",
   "execution_count": 33,
   "id": "dddb2847-ab8d-4146-9386-78883ba716b7",
   "metadata": {},
   "outputs": [
    {
     "data": {
      "text/plain": [
       "20"
      ]
     },
     "execution_count": 33,
     "metadata": {},
     "output_type": "execute_result"
    }
   ],
   "source": [
    "stack.get()"
   ]
  },
  {
   "cell_type": "code",
   "execution_count": 34,
   "id": "ccc73c86-6c71-4244-bdc5-0466035a4d5f",
   "metadata": {},
   "outputs": [
    {
     "data": {
      "text/plain": [
       "10"
      ]
     },
     "execution_count": 34,
     "metadata": {},
     "output_type": "execute_result"
    }
   ],
   "source": [
    "stack.get()"
   ]
  },
  {
   "cell_type": "code",
   "execution_count": null,
   "id": "53d4a9a3-c740-4b50-975a-f1d81639e01f",
   "metadata": {},
   "outputs": [],
   "source": []
  }
 ],
 "metadata": {
  "kernelspec": {
   "display_name": "Python 3 (ipykernel)",
   "language": "python",
   "name": "python3"
  },
  "language_info": {
   "codemirror_mode": {
    "name": "ipython",
    "version": 3
   },
   "file_extension": ".py",
   "mimetype": "text/x-python",
   "name": "python",
   "nbconvert_exporter": "python",
   "pygments_lexer": "ipython3",
   "version": "3.12.1"
  }
 },
 "nbformat": 4,
 "nbformat_minor": 5
}
